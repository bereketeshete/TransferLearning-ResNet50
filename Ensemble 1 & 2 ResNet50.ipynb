{
 "cells": [
  {
   "cell_type": "code",
   "execution_count": 1,
   "id": "9f8159d1",
   "metadata": {},
   "outputs": [],
   "source": [
    "# Author Bereket Kebede, Graduate Student\n",
    "# Neural Networks -  Assignment #3 - University of Memphis. Fall 2021\n",
    "# Question #1, Transfer Learnining, ResNet50 on TinyImage\n",
    "# Last updated - Oct 10, 2021"
   ]
  },
  {
   "cell_type": "code",
   "execution_count": 2,
   "id": "65158c0f",
   "metadata": {},
   "outputs": [],
   "source": [
    "#####################################################################################\n",
    "# Import necessary libraries\n",
    "\n",
    "import time\n",
    "import scipy.ndimage as nd\n",
    "import imageio \n",
    "import numpy as np\n",
    "import cv2\n",
    "import tensorflow as tf\n",
    "import matplotlib.pyplot as plt\n",
    "import tensorflow as tf\n",
    "from keras.models import Sequential, Input\n",
    "from keras.preprocessing.image import ImageDataGenerator\n",
    "from keras.layers import Dense, Dropout, Activation, MaxPool2D, Flatten\n",
    "from keras.callbacks import ReduceLROnPlateau, CSVLogger, EarlyStopping\n",
    "from sklearn.ensemble import VotingClassifier\n",
    "from keras.wrappers.scikit_learn import KerasClassifier\n",
    "from tensorflow import keras\n",
    "import tensorflow as tf"
   ]
  },
  {
   "cell_type": "code",
   "execution_count": 3,
   "id": "4c19226d",
   "metadata": {},
   "outputs": [
    {
     "name": "stdout",
     "output_type": "stream",
     "text": [
      "starting loading data\n",
      "finished loading data, in 13.544842958450317 seconds\n",
      "train data shape:  (100000, 64, 64, 3)\n",
      "train label shape:  (100000, 200)\n",
      "test data shape:  (10000, 64, 64, 3)\n",
      "test_labels.shape:  (10000, 200)\n"
     ]
    }
   ],
   "source": [
    "#####################################################################################\n",
    "# Load Training and Testing data, TinyImageNet\n",
    "\n",
    "path = 'C:/Users/CIRL/Desktop/Bereket/Neural Networks/Assignment 3/archive/tiny-imagenet-200/'\n",
    "\n",
    "def get_id_dictionary():\n",
    "    id_dict = {}\n",
    "    for i, line in enumerate(open( path + 'wnids.txt', 'r')):\n",
    "        id_dict[line.replace('\\n', '')] = i\n",
    "    return id_dict\n",
    "  \n",
    "def get_class_to_id_dict():\n",
    "    id_dict = get_id_dictionary()\n",
    "    all_classes = {}\n",
    "    result = {}\n",
    "    for i, line in enumerate(open( path + 'words.txt', 'r')):\n",
    "        n_id, word = line.split('\\t')[:2]\n",
    "        all_classes[n_id] = word\n",
    "    for key, value in id_dict.items():\n",
    "        result[value] = (key, all_classes[key])      \n",
    "    return result\n",
    "\n",
    "def get_data(id_dict):\n",
    "    print('starting loading data')\n",
    "    train_data, test_data = [], []\n",
    "    train_labels, test_labels = [], []\n",
    "    t = time.time()\n",
    "    for key, value in id_dict.items():\n",
    "        train_data += [cv2.imread( path + 'train/{}/images/{}_{}.JPEG'.format(key, key, str(i))) for i in range(500)]\n",
    "        train_labels_ = np.array([[0]*200]*500)\n",
    "        train_labels_[:, value] = 1\n",
    "        train_labels += train_labels_.tolist()\n",
    "\n",
    "    for line in open( path + 'val/val_annotations.txt'):\n",
    "        img_name, class_id = line.split('\\t')[:2]\n",
    "        test_data.append(cv2.imread( path + 'val/images/{}'.format(img_name)))\n",
    "        test_labels_ = np.array([[0]*200])\n",
    "        test_labels_[0, id_dict[class_id]] = 1\n",
    "        test_labels += test_labels_.tolist()\n",
    "\n",
    "    print('finished loading data, in {} seconds'.format(time.time() - t))\n",
    "    return np.array(train_data), np.array(train_labels), np.array(test_data), np.array(test_labels)\n",
    "  \n",
    "train_data, train_labels, test_data, test_labels = get_data(get_id_dictionary())\n",
    "\n",
    "print( \"train data shape: \",  train_data.shape )\n",
    "print( \"train label shape: \", train_labels.shape )\n",
    "print( \"test data shape: \",   test_data.shape )\n",
    "print( \"test_labels.shape: \", test_labels.shape )"
   ]
  },
  {
   "cell_type": "code",
   "execution_count": 4,
   "id": "ec748341",
   "metadata": {},
   "outputs": [],
   "source": [
    "#####################################################################################\n",
    "# Shuffle data\n",
    "\n",
    "def shuffle_data(train_data, train_labels ):\n",
    "    size = len(train_data)\n",
    "    train_idx = np.arange(size)\n",
    "    np.random.shuffle(train_idx)\n",
    "\n",
    "    return train_data[train_idx], train_labels[train_idx]\n",
    "  \n",
    "train_data, train_labels = shuffle_data(train_data, train_labels)"
   ]
  },
  {
   "cell_type": "code",
   "execution_count": 5,
   "id": "d59d3bfe",
   "metadata": {},
   "outputs": [],
   "source": [
    "#####################################################################################\n",
    "# pre-processing data\n",
    "\n",
    "lr_reducer = ReduceLROnPlateau(factor=np.sqrt(0.1), cooldown=0, patience=5, min_lr=0.5e-6)\n",
    "early_stopper = EarlyStopping(min_delta=0.001, patience=10)\n",
    "csv_logger = CSVLogger('resnet50_tiny_ImageNet.csv')\n",
    "\n",
    "batch_size = 500\n",
    "nb_classes = 200\n",
    "nb_epoch = 10\n",
    "\n",
    "# input image dimensions\n",
    "img_rows, img_cols = 64, 64\n",
    "# The images are RGB\n",
    "img_channels = 3\n",
    "# The data, shuffled and split between train and test sets:\n",
    "X_train = train_data\n",
    "Y_train = train_labels\n",
    "X_test = test_data\n",
    "Y_test = test_labels\n",
    "\n",
    "X_train = X_train.astype('float32')\n",
    "X_test = X_test.astype('float32')\n",
    "\n",
    "# subtract mean and normalize\n",
    "mean_image = np.mean(X_train, axis=0)\n",
    "X_train -= mean_image\n",
    "X_test -= mean_image\n",
    "X_train /= 128.\n",
    "X_test /= 128."
   ]
  },
  {
   "cell_type": "code",
   "execution_count": 23,
   "id": "a41ca613",
   "metadata": {},
   "outputs": [
    {
     "name": "stdout",
     "output_type": "stream",
     "text": [
      "Data augemntation done\n"
     ]
    }
   ],
   "source": [
    "#####################################################################################\n",
    "# Data augmentation\n",
    "\n",
    "datagen = ImageDataGenerator(\n",
    "          featurewise_center=False,           # set input mean to 0 over the dataset\n",
    "          samplewise_center=False,            # set each sample mean to 0\n",
    "          featurewise_std_normalization=False,# divide inputs by std of the dataset\n",
    "          samplewise_std_normalization=False, # divide each input by its std\n",
    "          zca_whitening=False,                # apply ZCA whitening\n",
    "          rotation_range=0,                   # randomly rotate images in the range (degrees, 0 to 180)\n",
    "          width_shift_range=0.1,              # randomly shift images horizontally (fraction of total width)\n",
    "          height_shift_range=0.1,             # randomly shift images vertically (fraction of total height)\n",
    "          horizontal_flip=True,               # randomly flip images\n",
    "          vertical_flip=False )               # randomly flip images\n",
    "\n",
    "# Compute quantities required for featurewise normalization\n",
    "# (std, mean, and principal components if ZCA whitening is applied).\n",
    "datagen.fit( X_train )\n",
    "\n",
    "print('Data augemntation done')"
   ]
  },
  {
   "cell_type": "code",
   "execution_count": 24,
   "id": "fd5f5337",
   "metadata": {},
   "outputs": [],
   "source": [
    "#####################################################################################\n",
    "# Load pre-trained models\n",
    "\n",
    "model_a = keras.models.load_model(\"model_resnet50.h5\")\n",
    "model_a._name = 'model_resnet50'\n",
    "model_b = keras.models.load_model(\"model_resnet50_fine_tuned.h5\")\n",
    "model_b._name = 'model_resnet50_fine_tuned'\n",
    "model_c = keras.models.load_model(\"best_DCNN_15.h5\")\n",
    "\n",
    "model1 = KerasClassifier(model_a , epochs = 10)\n",
    "model2 = KerasClassifier(model_b , epochs = 10)\n",
    "model3 = KerasClassifier(model_c , epochs = 10)\n",
    "\n",
    "model1._estimator_type = \"classifier\"\n",
    "model2._estimator_type = \"classifier\"\n",
    "model3._estimator_type = \"classifier\""
   ]
  },
  {
   "cell_type": "code",
   "execution_count": 30,
   "id": "ed356c5f",
   "metadata": {},
   "outputs": [],
   "source": [
    "commonInput = Input(shape=(64,64,3))\n",
    "out1 = model_a(commonInput)\n",
    "out2 = model_b(commonInput)\n",
    "out3 = model_c(Input(shape=(224,224,1)))\n",
    "merged = keras.layers.Add()([out1,out2])\n",
    "newModel = tf.keras.Model(commonInput, merged)"
   ]
  },
  {
   "cell_type": "code",
   "execution_count": 31,
   "id": "f7a3e16a",
   "metadata": {},
   "outputs": [
    {
     "name": "stdout",
     "output_type": "stream",
     "text": [
      "Epoch 1/10\n",
      "200/200 [==============================] - 96s 448ms/step - loss: 0.4163 - accuracy: 0.8911 - val_loss: 2.6346 - val_accuracy: 0.4904\n",
      "Epoch 2/10\n",
      "200/200 [==============================] - 90s 447ms/step - loss: 0.4547 - accuracy: 0.8800 - val_loss: 2.5944 - val_accuracy: 0.5057\n",
      "Epoch 3/10\n",
      "200/200 [==============================] - 90s 450ms/step - loss: 0.4523 - accuracy: 0.8798 - val_loss: 2.6447 - val_accuracy: 0.5016\n",
      "Epoch 4/10\n",
      "200/200 [==============================] - 91s 452ms/step - loss: 0.4401 - accuracy: 0.8842 - val_loss: 2.5734 - val_accuracy: 0.5104\n",
      "Epoch 5/10\n",
      "200/200 [==============================] - 91s 453ms/step - loss: 0.4340 - accuracy: 0.8868 - val_loss: 2.6847 - val_accuracy: 0.5056\n",
      "Epoch 6/10\n",
      "200/200 [==============================] - 91s 454ms/step - loss: 0.4123 - accuracy: 0.8935 - val_loss: 2.5843 - val_accuracy: 0.5148\n",
      "Epoch 7/10\n",
      "200/200 [==============================] - 91s 456ms/step - loss: 0.3963 - accuracy: 0.8995 - val_loss: 2.6708 - val_accuracy: 0.5090\n",
      "Epoch 8/10\n",
      "200/200 [==============================] - 91s 456ms/step - loss: 0.3817 - accuracy: 0.9035 - val_loss: 2.6662 - val_accuracy: 0.5104\n",
      "Epoch 9/10\n",
      "200/200 [==============================] - 91s 456ms/step - loss: 0.3734 - accuracy: 0.9054 - val_loss: 2.5955 - val_accuracy: 0.5255\n",
      "Epoch 10/10\n",
      "200/200 [==============================] - 92s 457ms/step - loss: 0.2462 - accuracy: 0.9449 - val_loss: 2.4365 - val_accuracy: 0.5663\n"
     ]
    }
   ],
   "source": [
    "epoch =10\n",
    "newModel.compile(loss='categorical_crossentropy', optimizer='adam', metrics=['accuracy'])\n",
    "\n",
    "history = newModel.fit(datagen.flow(X_train, Y_train, batch_size=batch_size),\n",
    "                     steps_per_epoch=X_train.shape[0] // batch_size,\n",
    "                     validation_data=(X_test, Y_test),\n",
    "                     epochs=epoch, verbose=1,\n",
    "                     callbacks=[lr_reducer, early_stopper, csv_logger] )"
   ]
  },
  {
   "cell_type": "code",
   "execution_count": 33,
   "id": "9d51dcdc",
   "metadata": {},
   "outputs": [
    {
     "name": "stdout",
     "output_type": "stream",
     "text": [
      "313/313 [==============================] - 7s 24ms/step - loss: 2.4365 - accuracy: 0.5663\n",
      "\n",
      "Accuracy: 0.5662999749183655\n"
     ]
    }
   ],
   "source": [
    "scores = newModel.evaluate(X_test, Y_test, verbose=1)\n",
    "print('\\nAccuracy:', scores[1])\n"
   ]
  },
  {
   "cell_type": "code",
   "execution_count": 34,
   "id": "8022dea5",
   "metadata": {},
   "outputs": [
    {
     "name": "stdout",
     "output_type": "stream",
     "text": [
      "Plotting training loss\n",
      "\n"
     ]
    },
    {
     "data": {
      "image/png": "[encoded data removed]",
      "text/plain": [
       "<Figure size 432x288 with 1 Axes>"
      ]
     },
     "metadata": {
      "needs_background": "light"
     },
     "output_type": "display_data"
    },
    {
     "name": "stdout",
     "output_type": "stream",
     "text": [
      "Plotting training accuracy\n",
      "\n"
     ]
    },
    {
     "data": {
      "image/png": "[encoded data removed]",
      "text/plain": [
       "<Figure size 432x288 with 1 Axes>"
      ]
     },
     "metadata": {
      "needs_background": "light"
     },
     "output_type": "display_data"
    }
   ],
   "source": [
    "#####################################################################################\n",
    "# Plotting training loss\n",
    "\n",
    "print('Plotting training loss\\n')\n",
    "plt.plot(history.history['loss'])\n",
    "plt.title('Model Loss')\n",
    "plt.plot(history.history['val_loss'])\n",
    "plt.ylabel('Loss')\n",
    "plt.xlabel('Epoch')\n",
    "plt.legend(['Train', 'Test'], loc='upper left')\n",
    "plt.show()\n",
    "\n",
    "#####################################################################################\n",
    "# Plotting training accuracy\n",
    "\n",
    "print('Plotting training accuracy\\n')\n",
    "plt.plot(history.history['accuracy'])\n",
    "plt.title('Classification Accuracy')\n",
    "plt.ylabel('Accuracy')\n",
    "plt.plot(history.history['val_accuracy'])\n",
    "plt.xlabel('Epoch')\n",
    "plt.legend(['Train', 'Test'], loc='upper left')\n",
    "plt.show()"
   ]
  },
  {
   "cell_type": "code",
   "execution_count": null,
   "id": "f9f4b918",
   "metadata": {},
   "outputs": [],
   "source": []
  }
 ],
 "metadata": {
  "kernelspec": {
   "display_name": "Python 3 (ipykernel)",
   "language": "python",
   "name": "python3"
  },
  "language_info": {
   "codemirror_mode": {
    "name": "ipython",
    "version": 3
   },
   "file_extension": ".py",
   "mimetype": "text/x-python",
   "name": "python",
   "nbconvert_exporter": "python",
   "pygments_lexer": "ipython3",
   "version": "3.9.7"
  }
 },
 "nbformat": 4,
 "nbformat_minor": 5
}
