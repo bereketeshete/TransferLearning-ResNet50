{
 "cells": [
  {
   "cell_type": "code",
   "execution_count": 1,
   "id": "d3c13a11",
   "metadata": {},
   "outputs": [],
   "source": [
    "# Author Bereket Kebede, Graduate Student\n",
    "# Neural Networks -  Assignment #3 - University of Memphis. Fall 2021\n",
    "# Question #3, ResNet50 for 15 classification\n",
    "# Last updated - Sept 23, 2021\n",
    "\n",
    "#####################################################################################\n",
    "# Import necessary libraries\n",
    "\n",
    "from keras.models import Sequential, Input\n",
    "from keras.preprocessing.image import ImageDataGenerator\n",
    "from keras.layers import Dense, Dropout, Activation, MaxPool2D, Flatten\n",
    "from keras.callbacks import ReduceLROnPlateau, CSVLogger, EarlyStopping\n",
    "import tensorflow as tf\n",
    "import matplotlib.pyplot as plt\n",
    "import numpy as np\n",
    "import cv2\n",
    "import os"
   ]
  },
  {
   "cell_type": "code",
   "execution_count": 2,
   "id": "948e7ba3",
   "metadata": {},
   "outputs": [
    {
     "name": "stdout",
     "output_type": "stream",
     "text": [
      "loading category: 0\n",
      "loading category: 1\n",
      "loading category: 2\n",
      "loading category: 3\n",
      "loading category: 4\n",
      "loading category: 5\n",
      "loading category: 6\n",
      "loading category: 7\n",
      "loading category: 8\n",
      "loading category: 9\n",
      "loading category: 10\n",
      "loading category: 11\n",
      "loading category: 12\n",
      "loading category: 13\n",
      "loading category: 14\n"
     ]
    }
   ],
   "source": [
    "#####################################################################################\n",
    "# Load Training and Testing data\n",
    "\n",
    "DATASET_PATH = 'C:/Users/CIRL/Desktop/Bereket/archive/15-Scene/15-Scene/'\n",
    "dataset_x = []\n",
    "dataset_y = []\n",
    "\n",
    "one_hot_lookup = np.eye(15)  # 15 categories\n",
    "\n",
    "for category in sorted(os.listdir(DATASET_PATH)):\n",
    "    print('loading category: ' + str(int(category)))\n",
    "    for fname in os.listdir(DATASET_PATH + category):\n",
    "        img = cv2.imread(DATASET_PATH + category + '/' + fname, 2)\n",
    "        img = cv2.resize(img, (224, 224))\n",
    "        dataset_x.append(np.reshape(img, [224, 224, 1]))\n",
    "        dataset_y.append(np.reshape(one_hot_lookup[int(category)], [15]))\n",
    "\n",
    "dataset_x = np.array(dataset_x)\n",
    "dataset_y = np.array(dataset_y)"
   ]
  },
  {
   "cell_type": "code",
   "execution_count": 3,
   "id": "ca3e2780",
   "metadata": {},
   "outputs": [
    {
     "name": "stdout",
     "output_type": "stream",
     "text": [
      "(448, 224, 224, 1)\n",
      "(448, 15)\n",
      "(4037, 224, 224, 1)\n",
      "(4037, 15)\n"
     ]
    }
   ],
   "source": [
    "#####################################################################################\n",
    "# Randomize data\n",
    "\n",
    "lr_reducer = ReduceLROnPlateau(factor=np.sqrt(0.1), cooldown=0, patience=5, min_lr=0.5e-6)\n",
    "early_stopper = EarlyStopping(min_delta=0.001, patience=10)\n",
    "csv_logger = CSVLogger('resnet50_on_15_classification.csv')\n",
    "\n",
    "p = np.random.permutation(len(dataset_x))\n",
    "dataset_x = dataset_x[p]\n",
    "dataset_y = dataset_y[p]\n",
    "\n",
    "X_test = dataset_x[:int(len(dataset_x) / 10)]\n",
    "Y_test = dataset_y[:int(len(dataset_x) / 10)]\n",
    "X_train = dataset_x[int(len(dataset_x) / 10):]\n",
    "Y_train = dataset_y[int(len(dataset_x) / 10):]\n",
    "\n",
    "print(X_test.shape)\n",
    "print(Y_test.shape)\n",
    "print(X_train.shape)\n",
    "print(Y_train.shape)"
   ]
  },
  {
   "cell_type": "code",
   "execution_count": 4,
   "id": "d77118d0",
   "metadata": {},
   "outputs": [],
   "source": [
    "#####################################################################################\n",
    "# Define a function for calling a training function\n",
    "\n",
    "def ResNet50_on_15_Classificaion(a, b, c, d, e, opt):\n",
    "    batch_size = 128\n",
    "    num_classes = 15\n",
    "\n",
    "    X_train_new = np.repeat(a, 3, axis =3) # change grey to RGB format to use ResNet RGB pre-trained weights\n",
    "    X_test_new = np.repeat(c, 3, axis=3)\n",
    "\n",
    "    img_rows, img_cols = X_train_new.shape[1], X_train_new.shape[2]\n",
    "    input_shape = (img_rows, img_cols, 3)\n",
    "\n",
    "    model = Sequential([\n",
    "        Input(shape=input_shape),\n",
    "        tf.keras.applications.resnet50.ResNet50(include_top=False, pooling='avg'),\n",
    "        Dropout(0.4),\n",
    "        Dense(num_classes, activation='softmax',)\n",
    "    ])\n",
    "    \n",
    "    # fine-tune with pre-trained weight\n",
    "    model.load_weights('ResNet50_on_15.h5')\n",
    "\n",
    "    # Setting the optimizer and model\n",
    "\n",
    "    model.compile(optimizer=opt, loss=\"categorical_crossentropy\", metrics=[\"accuracy\"])\n",
    "\n",
    "    # Data Augmentation\n",
    "    data_generator = ImageDataGenerator(\n",
    "        featurewise_center=False,  # set input mean to 0 over the dataset\n",
    "        samplewise_center=False,  # set each sample mean to 0\n",
    "        featurewise_std_normalization=False,  # divide inputs by std of the dataset\n",
    "        samplewise_std_normalization=False,  # divide each input by its std\n",
    "        zca_whitening=False,  # apply ZCA whitening\n",
    "        shear_range=0.2,\n",
    "        zoom_range=0.2,\n",
    "        rotation_range=10,  # randomly rotate images in the range (degrees, 0 to 180)\n",
    "        width_shift_range=0.1,  # randomly shift images horizontally (fraction of total width)\n",
    "        height_shift_range=0.1,  # randomly shift images vertically (fraction of total height)\n",
    "        horizontal_flip=True,  # randomly flip images\n",
    "        vertical_flip=False)  # randomly flip images\n",
    "\n",
    "    data_generator.fit(X_train_new)\n",
    "\n",
    "    history = model.fit(data_generator.flow(X_train_new, b, batch_size=batch_size),\n",
    "                        steps_per_epoch=X_train_new.shape[0] // batch_size,\n",
    "                        validation_data=(X_test_new, Y_test),\n",
    "                        epochs=e, verbose=1,\n",
    "                        callbacks=[lr_reducer, early_stopper, csv_logger])\n",
    "    scores = model.evaluate(X_test_new, d, verbose=1)\n",
    "    model.summary()\n",
    "\n",
    "    # Save the model if needed\n",
    "    model.save(\"ResNet50_fine_tuned_on_15.h5\")\n",
    "\n",
    "    print('\\nAccuracy:', scores[1])\n",
    "    #####################################################################################\n",
    "    # Plotting training loss\n",
    "\n",
    "    print('Plotting training loss\\n')\n",
    "    plt.plot(history.history['loss'])\n",
    "    plt.title('Model Loss')\n",
    "    plt.plot(history.history['val_loss'])\n",
    "    plt.ylabel('Loss')\n",
    "    plt.xlabel('Epoch')\n",
    "    plt.legend(['Train', 'Test'], loc='upper left')\n",
    "    plt.show()\n",
    "\n",
    "    #####################################################################################\n",
    "    # Plotting training accuracy\n",
    "\n",
    "    print('Plotting training accuracy\\n')\n",
    "    plt.plot(history.history['accuracy'])\n",
    "    plt.title('Classification Accuracy')\n",
    "    plt.ylabel('Accuracy')\n",
    "    plt.plot(history.history['val_accuracy'])\n",
    "    plt.xlabel('Epoch')\n",
    "    plt.legend(['Train', 'Test'], loc='upper left')\n",
    "    plt.show()"
   ]
  },
  {
   "cell_type": "code",
   "execution_count": 5,
   "id": "0aedba66",
   "metadata": {},
   "outputs": [
    {
     "name": "stdout",
     "output_type": "stream",
     "text": [
      "Epoch 1/30\n",
      "31/31 [==============================] - 34s 845ms/step - loss: 0.3190 - accuracy: 0.8954 - val_loss: 235.1660 - val_accuracy: 0.1071\n",
      "Epoch 2/30\n",
      "31/31 [==============================] - 25s 791ms/step - loss: 0.2397 - accuracy: 0.9184 - val_loss: 48.2223 - val_accuracy: 0.3839\n",
      "Epoch 3/30\n",
      "31/31 [==============================] - 25s 792ms/step - loss: 0.2603 - accuracy: 0.9217 - val_loss: 11.6943 - val_accuracy: 0.3371\n",
      "Epoch 4/30\n",
      "31/31 [==============================] - 25s 782ms/step - loss: 0.2161 - accuracy: 0.9340 - val_loss: 4.9152 - val_accuracy: 0.3750\n",
      "Epoch 5/30\n",
      "31/31 [==============================] - 25s 790ms/step - loss: 0.2154 - accuracy: 0.9314 - val_loss: 1.5083 - val_accuracy: 0.5848\n",
      "Epoch 6/30\n",
      "31/31 [==============================] - 25s 797ms/step - loss: 0.2191 - accuracy: 0.9317 - val_loss: 5.5163 - val_accuracy: 0.1272\n",
      "Epoch 7/30\n",
      "31/31 [==============================] - 25s 789ms/step - loss: 0.2391 - accuracy: 0.9289 - val_loss: 6.7557 - val_accuracy: 0.2723\n",
      "Epoch 8/30\n",
      "31/31 [==============================] - 25s 790ms/step - loss: 0.2075 - accuracy: 0.9304 - val_loss: 1.9363 - val_accuracy: 0.6071\n",
      "Epoch 9/30\n",
      "31/31 [==============================] - 25s 789ms/step - loss: 0.1577 - accuracy: 0.9458 - val_loss: 1.8940 - val_accuracy: 0.6161\n",
      "Epoch 10/30\n",
      "31/31 [==============================] - 25s 790ms/step - loss: 0.1155 - accuracy: 0.9614 - val_loss: 1.0287 - val_accuracy: 0.7567\n",
      "Epoch 11/30\n",
      "31/31 [==============================] - 25s 789ms/step - loss: 0.0945 - accuracy: 0.9660 - val_loss: 1.5729 - val_accuracy: 0.6629\n",
      "Epoch 12/30\n",
      "31/31 [==============================] - 25s 789ms/step - loss: 0.0819 - accuracy: 0.9731 - val_loss: 1.5877 - val_accuracy: 0.6853\n",
      "Epoch 13/30\n",
      "31/31 [==============================] - 25s 792ms/step - loss: 0.0835 - accuracy: 0.9721 - val_loss: 0.6458 - val_accuracy: 0.8259\n",
      "Epoch 14/30\n",
      "31/31 [==============================] - 25s 791ms/step - loss: 0.0842 - accuracy: 0.9716 - val_loss: 1.0001 - val_accuracy: 0.7768\n",
      "Epoch 15/30\n",
      "31/31 [==============================] - 25s 793ms/step - loss: 0.0874 - accuracy: 0.9678 - val_loss: 2.0766 - val_accuracy: 0.6607\n",
      "Epoch 16/30\n",
      "31/31 [==============================] - 25s 792ms/step - loss: 0.0884 - accuracy: 0.9693 - val_loss: 0.9330 - val_accuracy: 0.7991\n",
      "Epoch 17/30\n",
      "31/31 [==============================] - 25s 792ms/step - loss: 0.1085 - accuracy: 0.9616 - val_loss: 1.2426 - val_accuracy: 0.7455\n",
      "Epoch 18/30\n",
      "31/31 [==============================] - 25s 789ms/step - loss: 0.1056 - accuracy: 0.9665 - val_loss: 0.5088 - val_accuracy: 0.8482\n",
      "Epoch 19/30\n",
      "31/31 [==============================] - 25s 800ms/step - loss: 0.0780 - accuracy: 0.9745 - val_loss: 0.8677 - val_accuracy: 0.8058\n",
      "Epoch 20/30\n",
      "31/31 [==============================] - 25s 788ms/step - loss: 0.0617 - accuracy: 0.9777 - val_loss: 0.5539 - val_accuracy: 0.8482\n",
      "Epoch 21/30\n",
      "31/31 [==============================] - 25s 789ms/step - loss: 0.0689 - accuracy: 0.9783 - val_loss: 1.6173 - val_accuracy: 0.7321\n",
      "Epoch 22/30\n",
      "31/31 [==============================] - 25s 790ms/step - loss: 0.0715 - accuracy: 0.9739 - val_loss: 1.3426 - val_accuracy: 0.7589\n",
      "Epoch 23/30\n",
      "31/31 [==============================] - 25s 789ms/step - loss: 0.0587 - accuracy: 0.9772 - val_loss: 0.9671 - val_accuracy: 0.8058\n",
      "Epoch 24/30\n",
      "31/31 [==============================] - 25s 806ms/step - loss: 0.0356 - accuracy: 0.9898 - val_loss: 0.7370 - val_accuracy: 0.8571\n",
      "Epoch 25/30\n",
      "31/31 [==============================] - 25s 790ms/step - loss: 0.0193 - accuracy: 0.9933 - val_loss: 0.2833 - val_accuracy: 0.9174\n",
      "Epoch 26/30\n",
      "31/31 [==============================] - 25s 789ms/step - loss: 0.0131 - accuracy: 0.9972 - val_loss: 0.4627 - val_accuracy: 0.8839\n",
      "Epoch 27/30\n",
      "31/31 [==============================] - 25s 790ms/step - loss: 0.0132 - accuracy: 0.9959 - val_loss: 0.3610 - val_accuracy: 0.9085\n",
      "Epoch 28/30\n",
      "31/31 [==============================] - 25s 791ms/step - loss: 0.0163 - accuracy: 0.9969 - val_loss: 0.2302 - val_accuracy: 0.9375\n",
      "Epoch 29/30\n",
      "31/31 [==============================] - 25s 790ms/step - loss: 0.0104 - accuracy: 0.9972 - val_loss: 0.2509 - val_accuracy: 0.9375\n",
      "Epoch 30/30\n",
      "31/31 [==============================] - 25s 791ms/step - loss: 0.0090 - accuracy: 0.9964 - val_loss: 0.2359 - val_accuracy: 0.9420\n",
      "14/14 [==============================] - 1s 38ms/step - loss: 0.2359 - accuracy: 0.9420\n",
      "Model: \"sequential\"\n",
      "_________________________________________________________________\n",
      "Layer (type)                 Output Shape              Param #   \n",
      "=================================================================\n",
      "resnet50 (Functional)        (None, 2048)              23587712  \n",
      "_________________________________________________________________\n",
      "dropout (Dropout)            (None, 2048)              0         \n",
      "_________________________________________________________________\n",
      "dense (Dense)                (None, 15)                30735     \n",
      "=================================================================\n",
      "Total params: 23,618,447\n",
      "Trainable params: 23,565,327\n",
      "Non-trainable params: 53,120\n",
      "_________________________________________________________________\n"
     ]
    },
    {
     "name": "stderr",
     "output_type": "stream",
     "text": [
      "C:\\Users\\CIRL\\AppData\\Local\\Programs\\Python\\Python39\\lib\\site-packages\\keras\\utils\\generic_utils.py:494: CustomMaskWarning: Custom mask layers require a config and must override get_config. When loading, the custom mask layer must be passed to the custom_objects argument.\n",
      "  warnings.warn('Custom mask layers require a config and must override '\n"
     ]
    },
    {
     "name": "stdout",
     "output_type": "stream",
     "text": [
      "\n",
      "Accuracy: 0.9419642686843872\n",
      "Plotting training loss\n",
      "\n"
     ]
    },
    {
     "data": {
      "image/png": "[encoded data removed]",
      "text/plain": [
       "<Figure size 432x288 with 1 Axes>"
      ]
     },
     "metadata": {
      "needs_background": "light"
     },
     "output_type": "display_data"
    },
    {
     "name": "stdout",
     "output_type": "stream",
     "text": [
      "Plotting training accuracy\n",
      "\n"
     ]
    },
    {
     "data": {
      "image/png": "[encoded data removed]",
      "text/plain": [
       "<Figure size 432x288 with 1 Axes>"
      ]
     },
     "metadata": {
      "needs_background": "light"
     },
     "output_type": "display_data"
    }
   ],
   "source": [
    "ResNet50_on_15_Classificaion(X_train, Y_train, X_test, Y_test, 30, 'Adam')"
   ]
  },
  {
   "cell_type": "code",
   "execution_count": null,
   "id": "2efeb7a3",
   "metadata": {},
   "outputs": [],
   "source": []
  }
 ],
 "metadata": {
  "kernelspec": {
   "display_name": "Python 3 (ipykernel)",
   "language": "python",
   "name": "python3"
  },
  "language_info": {
   "codemirror_mode": {
    "name": "ipython",
    "version": 3
   },
   "file_extension": ".py",
   "mimetype": "text/x-python",
   "name": "python",
   "nbconvert_exporter": "python",
   "pygments_lexer": "ipython3",
   "version": "3.9.7"
  }
 },
 "nbformat": 4,
 "nbformat_minor": 5
}
