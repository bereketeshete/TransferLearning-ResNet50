{
 "cells": [
  {
   "cell_type": "code",
   "execution_count": 2,
   "id": "256e6441",
   "metadata": {},
   "outputs": [],
   "source": [
    "# Author Bereket Kebede, Graduate Student\n",
    "# Neural Networks -  Assignment #3 - University of Memphis. Fall 2021\n",
    "# Question #1, Transfer Learnining, ResNet50 on TinyImage\n",
    "# Last updated - Oct 10, 2021"
   ]
  },
  {
   "cell_type": "code",
   "execution_count": 38,
   "id": "5d4bc949",
   "metadata": {},
   "outputs": [],
   "source": [
    "#####################################################################################\n",
    "# Import necessary libraries\n",
    "\n",
    "import time\n",
    "import scipy.ndimage as nd\n",
    "import imageio \n",
    "import numpy as np\n",
    "import cv2\n",
    "import tensorflow as tf\n",
    "import matplotlib.pyplot as plt\n",
    "from keras.models import Sequential, Input\n",
    "from keras.preprocessing.image import ImageDataGenerator\n",
    "from keras.layers import Dense, Dropout, Activation, MaxPool2D, Flatten\n",
    "from keras.callbacks import ReduceLROnPlateau, CSVLogger, EarlyStopping\n",
    "from sklearn.ensemble import VotingClassifier\n",
    "from keras.wrappers.scikit_learn import KerasClassifier\n"
   ]
  },
  {
   "cell_type": "code",
   "execution_count": 11,
   "id": "2e395d37",
   "metadata": {},
   "outputs": [
    {
     "name": "stdout",
     "output_type": "stream",
     "text": [
      "starting loading data\n",
      "finished loading data, in 19.709442853927612 seconds\n",
      "train data shape:  (100000, 64, 64, 3)\n",
      "train label shape:  (100000, 200)\n",
      "test data shape:  (10000, 64, 64, 3)\n",
      "test_labels.shape:  (10000, 200)\n"
     ]
    }
   ],
   "source": [
    "#####################################################################################\n",
    "# Load Training and Testing data, TinyImageNet\n",
    "\n",
    "path = 'C:/Users/CIRL/Desktop/Bereket/Neural Networks/Assignment 3/archive/tiny-imagenet-200/'\n",
    "\n",
    "def get_id_dictionary():\n",
    "    id_dict = {}\n",
    "    for i, line in enumerate(open( path + 'wnids.txt', 'r')):\n",
    "        id_dict[line.replace('\\n', '')] = i\n",
    "    return id_dict\n",
    "  \n",
    "def get_class_to_id_dict():\n",
    "    id_dict = get_id_dictionary()\n",
    "    all_classes = {}\n",
    "    result = {}\n",
    "    for i, line in enumerate(open( path + 'words.txt', 'r')):\n",
    "        n_id, word = line.split('\\t')[:2]\n",
    "        all_classes[n_id] = word\n",
    "    for key, value in id_dict.items():\n",
    "        result[value] = (key, all_classes[key])      \n",
    "    return result\n",
    "\n",
    "def get_data(id_dict):\n",
    "    print('starting loading data')\n",
    "    train_data, test_data = [], []\n",
    "    train_labels, test_labels = [], []\n",
    "    t = time.time()\n",
    "    for key, value in id_dict.items():\n",
    "        train_data += [cv2.imread( path + 'train/{}/images/{}_{}.JPEG'.format(key, key, str(i))) for i in range(500)]\n",
    "        train_labels_ = np.array([[0]*200]*500)\n",
    "        train_labels_[:, value] = 1\n",
    "        train_labels += train_labels_.tolist()\n",
    "\n",
    "    for line in open( path + 'val/val_annotations.txt'):\n",
    "        img_name, class_id = line.split('\\t')[:2]\n",
    "        test_data.append(cv2.imread( path + 'val/images/{}'.format(img_name)))\n",
    "        test_labels_ = np.array([[0]*200])\n",
    "        test_labels_[0, id_dict[class_id]] = 1\n",
    "        test_labels += test_labels_.tolist()\n",
    "\n",
    "    print('finished loading data, in {} seconds'.format(time.time() - t))\n",
    "    return np.array(train_data), np.array(train_labels), np.array(test_data), np.array(test_labels)\n",
    "  \n",
    "train_data, train_labels, test_data, test_labels = get_data(get_id_dictionary())\n",
    "\n",
    "print( \"train data shape: \",  train_data.shape )\n",
    "print( \"train label shape: \", train_labels.shape )\n",
    "print( \"test data shape: \",   test_data.shape )\n",
    "print( \"test_labels.shape: \", test_labels.shape )"
   ]
  },
  {
   "cell_type": "code",
   "execution_count": 12,
   "id": "c8623edd",
   "metadata": {},
   "outputs": [],
   "source": [
    "#####################################################################################\n",
    "# Shuffle data\n",
    "\n",
    "def shuffle_data(train_data, train_labels ):\n",
    "    size = len(train_data)\n",
    "    train_idx = np.arange(size)\n",
    "    np.random.shuffle(train_idx)\n",
    "\n",
    "    return train_data[train_idx], train_labels[train_idx]\n",
    "  \n",
    "train_data, train_labels = shuffle_data(train_data, train_labels)"
   ]
  },
  {
   "cell_type": "code",
   "execution_count": 13,
   "id": "7457372a",
   "metadata": {},
   "outputs": [],
   "source": [
    "#####################################################################################\n",
    "# pre-processing data\n",
    "\n",
    "lr_reducer = ReduceLROnPlateau(factor=np.sqrt(0.1), cooldown=0, patience=5, min_lr=0.5e-6)\n",
    "early_stopper = EarlyStopping(min_delta=0.001, patience=10)\n",
    "csv_logger = CSVLogger('resnet50_tiny_ImageNet.csv')\n",
    "\n",
    "batch_size = 500\n",
    "nb_classes = 200\n",
    "nb_epoch = 10\n",
    "\n",
    "# input image dimensions\n",
    "img_rows, img_cols = 64, 64\n",
    "# The images are RGB\n",
    "img_channels = 3\n",
    "# The data, shuffled and split between train and test sets:\n",
    "X_train = train_data\n",
    "Y_train = train_labels\n",
    "X_test = test_data\n",
    "Y_test = test_labels\n",
    "\n",
    "X_train = X_train.astype('float32')\n",
    "X_test = X_test.astype('float32')\n",
    "\n",
    "# subtract mean and normalize\n",
    "mean_image = np.mean(X_train, axis=0)\n",
    "X_train -= mean_image\n",
    "X_test -= mean_image\n",
    "X_train /= 128.\n",
    "X_test /= 128."
   ]
  },
  {
   "cell_type": "code",
   "execution_count": 14,
   "id": "5fb80202",
   "metadata": {},
   "outputs": [],
   "source": [
    "model = Sequential([\n",
    "        Input(shape=(64,64,3)),\n",
    "        tf.keras.applications.resnet50.ResNet50(include_top=False, pooling='avg'),\n",
    "        Dropout(0.4),\n",
    "        Dense(200, activation='softmax')\n",
    "    ])"
   ]
  },
  {
   "cell_type": "code",
   "execution_count": 15,
   "id": "82f5fdbd",
   "metadata": {},
   "outputs": [],
   "source": [
    "model.compile(loss='categorical_crossentropy', optimizer='adam', metrics=['accuracy'])"
   ]
  },
  {
   "cell_type": "code",
   "execution_count": 16,
   "id": "4561c087",
   "metadata": {},
   "outputs": [
    {
     "name": "stdout",
     "output_type": "stream",
     "text": [
      "Model: \"sequential\"\n",
      "_________________________________________________________________\n",
      "Layer (type)                 Output Shape              Param #   \n",
      "=================================================================\n",
      "resnet50 (Functional)        (None, 2048)              23587712  \n",
      "_________________________________________________________________\n",
      "dropout (Dropout)            (None, 2048)              0         \n",
      "_________________________________________________________________\n",
      "dense (Dense)                (None, 200)               409800    \n",
      "=================================================================\n",
      "Total params: 23,997,512\n",
      "Trainable params: 23,944,392\n",
      "Non-trainable params: 53,120\n",
      "_________________________________________________________________\n"
     ]
    }
   ],
   "source": [
    "model.summary()"
   ]
  },
  {
   "cell_type": "code",
   "execution_count": 18,
   "id": "14aed170",
   "metadata": {},
   "outputs": [
    {
     "name": "stdout",
     "output_type": "stream",
     "text": [
      "Data augemntation done\n"
     ]
    }
   ],
   "source": [
    "#####################################################################################\n",
    "# Data augmentation\n",
    "\n",
    "datagen = ImageDataGenerator(\n",
    "          featurewise_center=False,           # set input mean to 0 over the dataset\n",
    "          samplewise_center=False,            # set each sample mean to 0\n",
    "          featurewise_std_normalization=False,# divide inputs by std of the dataset\n",
    "          samplewise_std_normalization=False, # divide each input by its std\n",
    "          zca_whitening=False,                # apply ZCA whitening\n",
    "          rotation_range=0,                   # randomly rotate images in the range (degrees, 0 to 180)\n",
    "          width_shift_range=0.1,              # randomly shift images horizontally (fraction of total width)\n",
    "          height_shift_range=0.1,             # randomly shift images vertically (fraction of total height)\n",
    "          horizontal_flip=True,               # randomly flip images\n",
    "          vertical_flip=False )               # randomly flip images\n",
    "\n",
    "# Compute quantities required for featurewise normalization\n",
    "# (std, mean, and principal components if ZCA whitening is applied).\n",
    "datagen.fit( X_train )\n",
    "\n",
    "print('Data augemntation done')"
   ]
  },
  {
   "cell_type": "code",
   "execution_count": 63,
   "id": "32457316",
   "metadata": {},
   "outputs": [
    {
     "name": "stdout",
     "output_type": "stream",
     "text": [
      "Epoch 1/10\n",
      "200/200 [==============================] - 68s 337ms/step - loss: 1.2007 - accuracy: 0.6733 - val_loss: 2.3503 - val_accuracy: 0.4786\n",
      "Epoch 2/10\n",
      "200/200 [==============================] - 65s 325ms/step - loss: 1.1155 - accuracy: 0.6910 - val_loss: 2.2100 - val_accuracy: 0.5019\n",
      "Epoch 3/10\n",
      "200/200 [==============================] - 65s 325ms/step - loss: 1.0315 - accuracy: 0.7119 - val_loss: 2.3023 - val_accuracy: 0.4890\n",
      "Epoch 4/10\n",
      "200/200 [==============================] - 66s 329ms/step - loss: 0.9643 - accuracy: 0.7307 - val_loss: 2.1906 - val_accuracy: 0.5073\n",
      "Epoch 5/10\n",
      "200/200 [==============================] - 66s 327ms/step - loss: 0.8981 - accuracy: 0.7449 - val_loss: 2.3173 - val_accuracy: 0.4954\n",
      "Epoch 6/10\n",
      "200/200 [==============================] - 65s 326ms/step - loss: 0.8275 - accuracy: 0.7646 - val_loss: 2.3260 - val_accuracy: 0.5001\n",
      "Epoch 7/10\n",
      "200/200 [==============================] - 66s 328ms/step - loss: 0.7529 - accuracy: 0.7820 - val_loss: 2.4980 - val_accuracy: 0.4863\n",
      "Epoch 8/10\n",
      "200/200 [==============================] - 65s 326ms/step - loss: 0.7119 - accuracy: 0.7919 - val_loss: 2.4680 - val_accuracy: 0.4931\n",
      "Epoch 9/10\n",
      "200/200 [==============================] - 66s 331ms/step - loss: 0.6609 - accuracy: 0.8059 - val_loss: 2.6165 - val_accuracy: 0.4783\n",
      "Epoch 10/10\n",
      "200/200 [==============================] - 66s 327ms/step - loss: 0.4247 - accuracy: 0.8733 - val_loss: 2.1671 - val_accuracy: 0.5651\n"
     ]
    }
   ],
   "source": [
    "#####################################################################################\n",
    "# Load Training and Testing data, for fine tuning jump this stage\n",
    "# ** Don't train for testing use saved models\n",
    "\n",
    "epoch = 10 # epoch 1-10\n",
    "\n",
    "# Fit the model on the batches generated by datagen.flow().\n",
    "history = model.fit(datagen.flow(X_train, Y_train, batch_size=batch_size),\n",
    "                     steps_per_epoch=X_train.shape[0] // batch_size,\n",
    "                     validation_data=(X_test, Y_test),\n",
    "                     epochs=epoch, verbose=1,\n",
    "                     callbacks=[lr_reducer, early_stopper, csv_logger] )"
   ]
  },
  {
   "cell_type": "code",
   "execution_count": 64,
   "id": "8938fd50",
   "metadata": {},
   "outputs": [
    {
     "name": "stdout",
     "output_type": "stream",
     "text": [
      "313/313 [==============================] - 4s 14ms/step - loss: 2.1671 - accuracy: 0.5651\n",
      "\n",
      "Accuracy: 0.5651000142097473\n"
     ]
    }
   ],
   "source": [
    "scores = model.evaluate(X_test, Y_test, verbose=1)\n",
    "print('\\nAccuracy:', scores[1])\n",
    "\n",
    "model.save('model_resnet50.h5')\n",
    "model.save_weights('pre_trained_weights_resnet50.h5')"
   ]
  },
  {
   "cell_type": "code",
   "execution_count": 66,
   "id": "b9984229",
   "metadata": {},
   "outputs": [
    {
     "name": "stdout",
     "output_type": "stream",
     "text": [
      "Plotting training loss\n",
      "\n"
     ]
    },
    {
     "data": {
      "image/png": "[encoded data removed]",
      "text/plain": [
       "<Figure size 432x288 with 1 Axes>"
      ]
     },
     "metadata": {
      "needs_background": "light"
     },
     "output_type": "display_data"
    }
   ],
   "source": [
    "#####################################################################################\n",
    "# Plotting training loss\n",
    "\n",
    "print('Plotting training loss\\n')\n",
    "plt.plot(history.history['loss'])\n",
    "plt.title('Model Loss')\n",
    "plt.plot(history.history['val_loss'])\n",
    "plt.ylabel('Loss')\n",
    "plt.xlabel('Epoch')\n",
    "plt.legend(['Train', 'Test'], loc='upper left')\n",
    "plt.show()"
   ]
  },
  {
   "cell_type": "code",
   "execution_count": 67,
   "id": "576f6910",
   "metadata": {},
   "outputs": [
    {
     "name": "stdout",
     "output_type": "stream",
     "text": [
      "Plotting training accuracy\n",
      "\n"
     ]
    },
    {
     "data": {
      "image/png": "[encoded data removed]",
      "text/plain": [
       "<Figure size 432x288 with 1 Axes>"
      ]
     },
     "metadata": {
      "needs_background": "light"
     },
     "output_type": "display_data"
    }
   ],
   "source": [
    "#####################################################################################\n",
    "# Plotting training accuracy\n",
    "\n",
    "print('Plotting training accuracy\\n')\n",
    "plt.plot(history.history['accuracy'])\n",
    "plt.title('Classification Accuracy')\n",
    "plt.ylabel('Accuracy')\n",
    "plt.plot(history.history['val_accuracy'])\n",
    "plt.xlabel('Epoch')\n",
    "plt.legend(['Train', 'Test'], loc='upper left')\n",
    "plt.show()"
   ]
  },
  {
   "cell_type": "code",
   "execution_count": 26,
   "id": "b95a217b",
   "metadata": {},
   "outputs": [
    {
     "name": "stdout",
     "output_type": "stream",
     "text": [
      "Epoch 1/10\n",
      "200/200 [==============================] - 74s 330ms/step - loss: 0.6210 - accuracy: 0.8151 - val_loss: 2.5355 - val_accuracy: 0.4995\n",
      "Epoch 2/10\n",
      "200/200 [==============================] - 65s 326ms/step - loss: 0.5864 - accuracy: 0.8245 - val_loss: 2.4640 - val_accuracy: 0.5053\n",
      "Epoch 3/10\n",
      "200/200 [==============================] - 65s 324ms/step - loss: 0.5372 - accuracy: 0.8375 - val_loss: 2.6425 - val_accuracy: 0.4925\n",
      "Epoch 4/10\n",
      "200/200 [==============================] - 66s 327ms/step - loss: 0.5123 - accuracy: 0.8453 - val_loss: 2.6095 - val_accuracy: 0.4929\n",
      "Epoch 5/10\n",
      "200/200 [==============================] - 65s 325ms/step - loss: 0.4819 - accuracy: 0.8538 - val_loss: 2.7167 - val_accuracy: 0.4941\n",
      "Epoch 6/10\n",
      "200/200 [==============================] - 66s 327ms/step - loss: 0.4463 - accuracy: 0.8637 - val_loss: 2.6383 - val_accuracy: 0.5067\n",
      "Epoch 7/10\n",
      "200/200 [==============================] - 66s 327ms/step - loss: 0.4295 - accuracy: 0.8689 - val_loss: 2.7315 - val_accuracy: 0.5004\n",
      "Epoch 8/10\n",
      "200/200 [==============================] - 65s 324ms/step - loss: 0.2562 - accuracy: 0.9220 - val_loss: 2.3970 - val_accuracy: 0.5582\n",
      "Epoch 9/10\n",
      "200/200 [==============================] - 66s 327ms/step - loss: 0.1852 - accuracy: 0.9439 - val_loss: 2.4787 - val_accuracy: 0.5581\n",
      "Epoch 10/10\n",
      "200/200 [==============================] - 65s 324ms/step - loss: 0.1517 - accuracy: 0.9537 - val_loss: 2.5095 - val_accuracy: 0.5560\n"
     ]
    }
   ],
   "source": [
    "#####################################################################################\n",
    "# Fine-tuning model with previous model pre-trained weights, Q#2\n",
    "# ** Don't train for testing use saved models\n",
    "\n",
    "model.load_weights('model_resnet50.h5')\n",
    "\n",
    "epoch = 10 # epoch 1-10\n",
    "\n",
    "# Fit the model on the batches generated by datagen.flow().\n",
    "history = model.fit(datagen.flow(X_train, Y_train, batch_size=batch_size),\n",
    "                     steps_per_epoch=X_train.shape[0] // batch_size,\n",
    "                     validation_data=(X_test, Y_test),\n",
    "                     epochs=epoch, verbose=1,\n",
    "                     callbacks=[lr_reducer, early_stopper, csv_logger] )"
   ]
  },
  {
   "cell_type": "code",
   "execution_count": 27,
   "id": "077e6644",
   "metadata": {
    "scrolled": true
   },
   "outputs": [
    {
     "name": "stdout",
     "output_type": "stream",
     "text": [
      "313/313 [==============================] - 4s 14ms/step - loss: 2.5095 - accuracy: 0.5560\n",
      "\n",
      "Accuracy: 0.5559999942779541\n"
     ]
    },
    {
     "name": "stderr",
     "output_type": "stream",
     "text": [
      "C:\\Users\\CIRL\\AppData\\Local\\Programs\\Python\\Python39\\lib\\site-packages\\keras\\utils\\generic_utils.py:494: CustomMaskWarning: Custom mask layers require a config and must override get_config. When loading, the custom mask layer must be passed to the custom_objects argument.\n",
      "  warnings.warn('Custom mask layers require a config and must override '\n"
     ]
    }
   ],
   "source": [
    "scores = model.evaluate(X_test, Y_test, verbose=1)\n",
    "print('\\nAccuracy:', scores[1])\n",
    "\n",
    "model.save('model_resnet50_fine_tuned.h5')"
   ]
  },
  {
   "cell_type": "code",
   "execution_count": 31,
   "id": "39cffa47",
   "metadata": {},
   "outputs": [
    {
     "name": "stdout",
     "output_type": "stream",
     "text": [
      "Plotting training loss\n",
      "\n"
     ]
    },
    {
     "data": {
      "image/png": "[encoded data removed]",
      "text/plain": [
       "<Figure size 432x288 with 1 Axes>"
      ]
     },
     "metadata": {
      "needs_background": "light"
     },
     "output_type": "display_data"
    },
    {
     "name": "stdout",
     "output_type": "stream",
     "text": [
      "Plotting training accuracy\n",
      "\n"
     ]
    },
    {
     "data": {
      "image/png": "[encoded data removed]",
      "text/plain": [
       "<Figure size 432x288 with 1 Axes>"
      ]
     },
     "metadata": {
      "needs_background": "light"
     },
     "output_type": "display_data"
    }
   ],
   "source": [
    "#####################################################################################\n",
    "# Plotting training loss\n",
    "\n",
    "print('Plotting training loss\\n')\n",
    "plt.plot(history.history['loss'])\n",
    "plt.title('Model Loss')\n",
    "plt.plot(history.history['val_loss'])\n",
    "plt.ylabel('Loss')\n",
    "plt.xlabel('Epoch')\n",
    "plt.legend(['Train', 'Test'], loc='upper left')\n",
    "plt.show()\n",
    "\n",
    "#####################################################################################\n",
    "# Plotting training accuracy\n",
    "\n",
    "print('Plotting training accuracy\\n')\n",
    "plt.plot(history.history['accuracy'])\n",
    "plt.title('Classification Accuracy')\n",
    "plt.ylabel('Accuracy')\n",
    "plt.plot(history.history['val_accuracy'])\n",
    "plt.xlabel('Epoch')\n",
    "plt.legend(['Train', 'Test'], loc='upper left')\n",
    "plt.show()"
   ]
  }
 ],
 "metadata": {
  "kernelspec": {
   "display_name": "Python 3 (ipykernel)",
   "language": "python",
   "name": "python3"
  },
  "language_info": {
   "codemirror_mode": {
    "name": "ipython",
    "version": 3
   },
   "file_extension": ".py",
   "mimetype": "text/x-python",
   "name": "python",
   "nbconvert_exporter": "python",
   "pygments_lexer": "ipython3",
   "version": "3.9.7"
  }
 },
 "nbformat": 4,
 "nbformat_minor": 5
}
