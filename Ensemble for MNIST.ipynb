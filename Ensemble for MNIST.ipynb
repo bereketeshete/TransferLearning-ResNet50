{
 "cells": [
  {
   "cell_type": "code",
   "execution_count": 2,
   "id": "b1d12666",
   "metadata": {},
   "outputs": [],
   "source": [
    "# Author Bereket Kebede, Graduate Student\n",
    "# Neural Networks -  Assignment #3 - University of Memphis. Fall 2021\n",
    "# Question #3b, Ensemble\n",
    "# Last updated - Oct 7, 2021\n",
    "# Tensorflow v2.6"
   ]
  },
  {
   "cell_type": "code",
   "execution_count": 2,
   "id": "d85a0249",
   "metadata": {},
   "outputs": [],
   "source": [
    "#####################################################################################\n",
    "# Import necessary libraries\n",
    "\n",
    "\n",
    "import matplotlib.pyplot as plt\n",
    "import numpy as np\n",
    "\n",
    "from sklearn.ensemble import VotingClassifier\n",
    "from sklearn.metrics import accuracy_score\n",
    "from sklearn.model_selection import train_test_split\n",
    "from keras.datasets import mnist\n",
    "from keras.wrappers.scikit_learn import KerasClassifier\n",
    "from keras.datasets import mnist\n",
    "from keras.models import Sequential\n",
    "from keras.utils.np_utils import to_categorical\n",
    "from keras.models import Sequential\n",
    "from keras.layers import Activation, Dense, BatchNormalization, Dropout\n",
    "from keras import optimizers"
   ]
  },
  {
   "cell_type": "code",
   "execution_count": 3,
   "id": "80b65801",
   "metadata": {},
   "outputs": [
    {
     "name": "stdout",
     "output_type": "stream",
     "text": [
      "(60000, 784)\n",
      "(10000, 784)\n",
      "(60000,)\n",
      "(10000,)\n"
     ]
    }
   ],
   "source": [
    "#####################################################################################\n",
    "# Load Data set\n",
    "\n",
    "(X_train, y_train), (X_test, y_test) = mnist.load_data()\n",
    "\n",
    "# reshaping X data: (n, 28, 28) => (n, 784)\n",
    "X_train = X_train.reshape((X_train.shape[0], X_train.shape[1] * X_train.shape[2]))\n",
    "X_test = X_test.reshape((X_test.shape[0], X_test.shape[1] * X_test.shape[2]))\n",
    "\n",
    "\n",
    "# We use all training data and validate on all test data\n",
    "print(X_train.shape)\n",
    "print(X_test.shape)\n",
    "print(y_train.shape)\n",
    "print(y_test.shape)"
   ]
  },
  {
   "cell_type": "code",
   "execution_count": 21,
   "id": "a47a8a4c",
   "metadata": {},
   "outputs": [],
   "source": [
    "import tensorflow as tf\n",
    "\n",
    "def mlp_model():\n",
    "    model = Sequential()\n",
    "    \n",
    "    model.add(Dense(50, input_shape = (784, ), kernel_initializer='he_normal'))\n",
    "    model.add(BatchNormalization())\n",
    "    model.add(Activation('relu'))\n",
    "    model.add(Dropout(0.2))\n",
    "    model.add(Dense(50, kernel_initializer='he_normal'))\n",
    "    model.add(BatchNormalization())\n",
    "    model.add(Activation('relu'))    \n",
    "    model.add(Dropout(0.2))\n",
    "    model.add(Dense(50, kernel_initializer='he_normal'))\n",
    "    model.add(BatchNormalization())\n",
    "    model.add(Activation('relu'))\n",
    "    model.add(Dropout(0.2))\n",
    "    model.add(Dense(50, kernel_initializer='he_normal'))\n",
    "    model.add(BatchNormalization())\n",
    "    model.add(Activation('relu'))\n",
    "    model.add(Dropout(0.2))\n",
    "    model.add(Dense(10, kernel_initializer='he_normal'))\n",
    "    model.add(Activation('softmax'))\n",
    "    \n",
    "    adam = tf.keras.optimizers.Adam(learning_rate = 0.001)\n",
    "    model.compile(optimizer = adam, loss = 'categorical_crossentropy', metrics = ['accuracy'])\n",
    "    \n",
    "    return model"
   ]
  },
  {
   "cell_type": "code",
   "execution_count": 22,
   "id": "1d703c90",
   "metadata": {},
   "outputs": [],
   "source": [
    "# create 5 models to ensemble\n",
    "model1 = KerasClassifier(build_fn = mlp_model, epochs = 10)\n",
    "model2 = KerasClassifier(build_fn = mlp_model, epochs = 10)\n",
    "model3 = KerasClassifier(build_fn = mlp_model, epochs = 10)\n",
    "model4 = KerasClassifier(build_fn = mlp_model, epochs = 10)\n",
    "model5 = KerasClassifier(build_fn = mlp_model, epochs = 10)\n",
    "\n",
    "\n",
    "model1._estimator_type = \"classifier\"\n",
    "model2._estimator_type = \"classifier\"\n",
    "model3._estimator_type = \"classifier\"\n",
    "model4._estimator_type = \"classifier\"\n",
    "model5._estimator_type = \"classifier\""
   ]
  },
  {
   "cell_type": "code",
   "execution_count": null,
   "id": "3058fc83",
   "metadata": {},
   "outputs": [
    {
     "name": "stderr",
     "output_type": "stream",
     "text": [
      "C:\\Users\\CIRL\\AppData\\Local\\Programs\\Python\\Python39\\lib\\site-packages\\keras\\optimizer_v2\\optimizer_v2.py:355: UserWarning: The `lr` argument is deprecated, use `learning_rate` instead.\n",
      "  warnings.warn(\n"
     ]
    },
    {
     "name": "stdout",
     "output_type": "stream",
     "text": [
      "Epoch 1/10\n",
      "1875/1875 [==============================] - 2s 774us/step - loss: 0.7568 - accuracy: 0.7693\n",
      "Epoch 2/10\n",
      "1875/1875 [==============================] - 1s 770us/step - loss: 0.4343 - accuracy: 0.8763\n",
      "Epoch 3/10\n",
      "1875/1875 [==============================] - 1s 768us/step - loss: 0.3618 - accuracy: 0.8972\n",
      "Epoch 4/10\n",
      "1875/1875 [==============================] - 1s 773us/step - loss: 0.3222 - accuracy: 0.9078\n",
      "Epoch 5/10\n",
      "1875/1875 [==============================] - 1s 771us/step - loss: 0.2990 - accuracy: 0.9154\n",
      "Epoch 6/10\n",
      "1875/1875 [==============================] - 1s 775us/step - loss: 0.2826 - accuracy: 0.9199\n",
      "Epoch 7/10\n",
      "1875/1875 [==============================] - 1s 771us/step - loss: 0.2689 - accuracy: 0.9234\n",
      "Epoch 8/10\n",
      "1875/1875 [==============================] - 1s 771us/step - loss: 0.2574 - accuracy: 0.9265\n",
      "Epoch 9/10\n",
      "1875/1875 [==============================] - 1s 768us/step - loss: 0.2529 - accuracy: 0.9280\n",
      "Epoch 10/10\n",
      "1875/1875 [==============================] - 1s 771us/step - loss: 0.2448 - accuracy: 0.9306\n",
      "Epoch 1/10\n"
     ]
    }
   ],
   "source": [
    "\n",
    "ensemble_clf = VotingClassifier(estimators = [('model1', model1), ('model2', model2), ('model3', model3), ('model4', model4), ('model5', model5)], voting = 'soft')\n",
    "ensemble_clf.fit(X_train, y_train)\n",
    "\n",
    "\n",
    "y_pred = ensemble_clf.predict(X_test)\n",
    "print('Acc: ', accuracy_score(y_pred, y_test))"
   ]
  },
  {
   "cell_type": "code",
   "execution_count": 4,
   "id": "a8770e07",
   "metadata": {},
   "outputs": [
    {
     "data": {
      "text/plain": [
       "60000"
      ]
     },
     "execution_count": 4,
     "metadata": {},
     "output_type": "execute_result"
    }
   ],
   "source": [
    "len(X_train)"
   ]
  },
  {
   "cell_type": "code",
   "execution_count": 6,
   "id": "97739d7e",
   "metadata": {},
   "outputs": [
    {
     "data": {
      "text/plain": [
       "60000"
      ]
     },
     "execution_count": 6,
     "metadata": {},
     "output_type": "execute_result"
    }
   ],
   "source": [
    "len(y_train)"
   ]
  },
  {
   "cell_type": "code",
   "execution_count": null,
   "id": "faced9db",
   "metadata": {},
   "outputs": [],
   "source": []
  }
 ],
 "metadata": {
  "kernelspec": {
   "display_name": "Python 3 (ipykernel)",
   "language": "python",
   "name": "python3"
  },
  "language_info": {
   "codemirror_mode": {
    "name": "ipython",
    "version": 3
   },
   "file_extension": ".py",
   "mimetype": "text/x-python",
   "name": "python",
   "nbconvert_exporter": "python",
   "pygments_lexer": "ipython3",
   "version": "3.9.7"
  }
 },
 "nbformat": 4,
 "nbformat_minor": 5
}
